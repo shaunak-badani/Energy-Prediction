{
 "cells": [
  {
   "cell_type": "markdown",
   "metadata": {},
   "source": [
    "# Data Preprocessing"
   ]
  },
  {
   "cell_type": "markdown",
   "metadata": {},
   "source": [
    "\n",
    "* This notebook serves the purpose of taking data from npz files and \n",
    "converting it into h5 format, so that in can be loaded dynamically \n",
    "into local memory while running the training model\n",
    "\n",
    "* It also saves the configuration to be used further into the training\n"
   ]
  },
  {
   "cell_type": "code",
   "execution_count": 19,
   "metadata": {},
   "outputs": [],
   "source": [
    "import os\n",
    "\n",
    "import h5py\n",
    "import os\n",
    "import numpy as np\n",
    "import pickle\n",
    "import torchani"
   ]
  },
  {
   "cell_type": "code",
   "execution_count": 20,
   "metadata": {},
   "outputs": [],
   "source": [
    "config = {\n",
    "    'name' : \"Malonaldehyde\",\n",
    "    'batches' : [200000, 400000, 600000],\n",
    "    'testing' : [600000, -1],\n",
    "    'datasets_path' : '../../datasets/malonaldehyde_dft.npz',\n",
    "    'test_h5_filename' : 'testing.h5'\n",
    "}\n",
    "\n",
    "def save_config():\n",
    "    f = open('model_config', 'ab')\n",
    "    pickle.dump(config, f)\n",
    "    f.close()"
   ]
  },
  {
   "cell_type": "code",
   "execution_count": 3,
   "metadata": {},
   "outputs": [
    {
     "data": {
      "text/plain": [
       "0"
      ]
     },
     "execution_count": 3,
     "metadata": {},
     "output_type": "execute_result"
    }
   ],
   "source": [
    "# To reset if want to run notebook again, do not do it if you don't wish \n",
    "# to delete already generated h5 file\n",
    "os.system('rm {}.h5'.format(config['name']))"
   ]
  },
  {
   "cell_type": "code",
   "execution_count": 21,
   "metadata": {},
   "outputs": [],
   "source": [
    "try:\n",
    "    path = os.path.dirname(os.path.realpath(__file__))\n",
    "except NameError:\n",
    "    path = os.getcwd()"
   ]
  },
  {
   "cell_type": "code",
   "execution_count": 5,
   "metadata": {},
   "outputs": [],
   "source": [
    "data_path = os.path.join(path, config['datasets_path'])\n",
    "new_data_file = os.path.join(path, '{}.h5'.format(config['name']))"
   ]
  },
  {
   "cell_type": "code",
   "execution_count": 6,
   "metadata": {},
   "outputs": [
    {
     "name": "stdout",
     "output_type": "stream",
     "text": [
      "Batches , [10000, 20000, 30000]\n"
     ]
    }
   ],
   "source": [
    "molecule = np.load(data_path)\n",
    "molecule_name = config['name']\n",
    "batches = config['batches']\n",
    "names = [\"01\", \"02\", \"03\"]\n",
    "\n",
    "print(\"Batches ,\", batches)"
   ]
  },
  {
   "cell_type": "code",
   "execution_count": 36,
   "metadata": {},
   "outputs": [
    {
     "name": "stdout",
     "output_type": "stream",
     "text": [
      "{'name': 'Benzene', 'batches': [10000, 20000, 30000], 'testing': [30000, 627983], 'datasets_path': '../../datasets/benzene_old_dft.npz', 'test_h5_filename': 'testing.h5'}\n"
     ]
    }
   ],
   "source": [
    "n = molecule['E'].shape[0]\n",
    "config['testing'][-1] = n\n",
    "os.system('rm model_config')\n",
    "save_config()\n",
    "print(config)"
   ]
  },
  {
   "cell_type": "code",
   "execution_count": 8,
   "metadata": {},
   "outputs": [],
   "source": [
    "species_map = {\n",
    "    6 : \"C\".encode(\"utf-8\"),\n",
    "    1 : \"H\".encode(\"utf-8\"),\n",
    "    8 : \"O\".encode(\"utf-8\"),\n",
    "    7 : \"N\".encode(\"utf-8\"),\n",
    "}\n",
    "mult = 627.5094738898777"
   ]
  },
  {
   "cell_type": "code",
   "execution_count": 9,
   "metadata": {},
   "outputs": [],
   "source": [
    "species = list(map(lambda x:species_map[x], molecule['z']))"
   ]
  },
  {
   "cell_type": "code",
   "execution_count": 10,
   "metadata": {},
   "outputs": [
    {
     "name": "stdout",
     "output_type": "stream",
     "text": [
      "Species :  [b'C', b'C', b'C', b'C', b'C', b'C', b'H', b'H', b'H', b'H', b'H', b'H']\n"
     ]
    }
   ],
   "source": [
    "print(\"Species : \", species)"
   ]
  },
  {
   "cell_type": "code",
   "execution_count": 11,
   "metadata": {},
   "outputs": [],
   "source": [
    "h5_file = h5py.File(new_data_file, 'w')"
   ]
  },
  {
   "cell_type": "code",
   "execution_count": 12,
   "metadata": {},
   "outputs": [],
   "source": [
    "if molecule_name not in h5_file:\n",
    "    b = h5_file.create_group(molecule_name)\n",
    "else:\n",
    "    b = h5_file[molecule_name]"
   ]
  },
  {
   "cell_type": "code",
   "execution_count": 13,
   "metadata": {},
   "outputs": [
    {
     "name": "stdout",
     "output_type": "stream",
     "text": [
      "0 10000\n",
      "10000 20000\n",
      "20000 30000\n"
     ]
    }
   ],
   "source": [
    "init = 0\n",
    "for i in range(len(batches)):\n",
    "    if names[i] not in b:\n",
    "        sub_group = b.create_group(names[i])\n",
    "    else:\n",
    "        sub_group = b[names[i]]\n",
    "    last = batches[i]\n",
    "    print(init, last)\n",
    "    if \"coordinates\" not in sub_group:\n",
    "        sub_group.create_dataset(\"coordinates\", data = molecule['R'][init:last])\n",
    "    if \"energies\" not in sub_group:\n",
    "        sub_group.create_dataset(\"energies\", data = molecule['E'][init:last].flatten() / mult) \n",
    "    if \"species\" not in sub_group:\n",
    "        sub_group.create_dataset(\"species\", data = species)\n",
    "    init = last"
   ]
  },
  {
   "cell_type": "code",
   "execution_count": 14,
   "metadata": {},
   "outputs": [
    {
     "name": "stdout",
     "output_type": "stream",
     "text": [
      "Done with writing to h5 file : \n",
      "<HDF5 dataset \"coordinates\": shape (10000, 12, 3), type \"<f8\">\n",
      "<HDF5 dataset \"energies\": shape (10000,), type \"<f8\">\n",
      "<HDF5 dataset \"species\": shape (12,), type \"|S1\">\n",
      " \n",
      "<HDF5 dataset \"coordinates\": shape (10000, 12, 3), type \"<f8\">\n",
      "<HDF5 dataset \"energies\": shape (10000,), type \"<f8\">\n",
      "<HDF5 dataset \"species\": shape (12,), type \"|S1\">\n",
      " \n",
      "<HDF5 dataset \"coordinates\": shape (10000, 12, 3), type \"<f8\">\n",
      "<HDF5 dataset \"energies\": shape (10000,), type \"<f8\">\n",
      "<HDF5 dataset \"species\": shape (12,), type \"|S1\">\n",
      " \n"
     ]
    }
   ],
   "source": [
    "print(\"Done with writing to h5 file : \")\n",
    "for i in names:\n",
    "    print(h5_file[molecule_name][i]['coordinates'])\n",
    "    print(h5_file[molecule_name][i]['energies'])\n",
    "    print(h5_file[molecule_name][i]['species'])\n",
    "    print(\" \")"
   ]
  },
  {
   "cell_type": "code",
   "execution_count": 15,
   "metadata": {},
   "outputs": [
    {
     "name": "stdout",
     "output_type": "stream",
     "text": [
      "Closing h5 file ...\n"
     ]
    }
   ],
   "source": [
    "print(\"Closing h5 file ...\")\n",
    "h5_file.close()"
   ]
  },
  {
   "cell_type": "markdown",
   "metadata": {},
   "source": [
    "## Saving the test data"
   ]
  },
  {
   "cell_type": "code",
   "execution_count": 50,
   "metadata": {},
   "outputs": [],
   "source": [
    "init, last = config['testing']"
   ]
  },
  {
   "cell_type": "code",
   "execution_count": 51,
   "metadata": {},
   "outputs": [
    {
     "name": "stdout",
     "output_type": "stream",
     "text": [
      "30000 627983\n"
     ]
    }
   ],
   "source": [
    "print(init, last)"
   ]
  },
  {
   "cell_type": "code",
   "execution_count": 23,
   "metadata": {},
   "outputs": [],
   "source": [
    "# test_data_file = os.path.join(path, 'tmp_testing.h5')\n",
    "# test_h5_file = h5py.File(test_data_file, 'w')"
   ]
  },
  {
   "cell_type": "code",
   "execution_count": 52,
   "metadata": {},
   "outputs": [],
   "source": [
    "test_data_file = os.path.join(path, config['test_h5_filename'])\n",
    "os.system(\"rm {}\".format(test_data_file))\n",
    "h5_file = h5py.File(test_data_file, 'w')"
   ]
  },
  {
   "cell_type": "code",
   "execution_count": 53,
   "metadata": {},
   "outputs": [],
   "source": [
    "if molecule_name not in h5_file:\n",
    "    b = h5_file.create_group(molecule_name)\n",
    "else:\n",
    "    b = h5_file[molecule_name]"
   ]
  },
  {
   "cell_type": "code",
   "execution_count": 54,
   "metadata": {},
   "outputs": [],
   "source": [
    "name = \"test\""
   ]
  },
  {
   "cell_type": "code",
   "execution_count": 55,
   "metadata": {},
   "outputs": [],
   "source": [
    "if name not in b:\n",
    "    sub_group = b.create_group(name)\n",
    "else:\n",
    "    sub_group = b[name]\n",
    "\n",
    "if \"coordinates\" not in sub_group:\n",
    "    sub_group.create_dataset(\"coordinates\", data = molecule['R'][init:last])\n",
    "if \"energies\" not in sub_group:\n",
    "    sub_group.create_dataset(\"energies\", data = molecule['E'][init:last].flatten() / mult) \n",
    "if \"species\" not in sub_group:\n",
    "    sub_group.create_dataset(\"species\", data = species)"
   ]
  },
  {
   "cell_type": "code",
   "execution_count": 56,
   "metadata": {},
   "outputs": [
    {
     "name": "stdout",
     "output_type": "stream",
     "text": [
      "Done with writing to temporary h5 file : \n"
     ]
    }
   ],
   "source": [
    "print(\"Done with writing to temporary h5 file : \")\n",
    "h5_file.close()"
   ]
  }
 ],
 "metadata": {
  "kernelspec": {
   "display_name": "ML",
   "language": "python",
   "name": "ml"
  },
  "language_info": {
   "codemirror_mode": {
    "name": "ipython",
    "version": 3
   },
   "file_extension": ".py",
   "mimetype": "text/x-python",
   "name": "python",
   "nbconvert_exporter": "python",
   "pygments_lexer": "ipython3",
   "version": "3.6.13"
  }
 },
 "nbformat": 4,
 "nbformat_minor": 2
}
