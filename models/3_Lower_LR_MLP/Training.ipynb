{
 "cells": [
  {
   "cell_type": "code",
   "execution_count": 1,
   "metadata": {},
   "outputs": [],
   "source": [
    "import numpy as np\n",
    "import matplotlib.pyplot as plt\n",
    "import tensorflow as tf\n",
    "from tensorflow import keras\n",
    "from tensorflow.keras import Model, layers\n",
    "from sklearn.model_selection import train_test_split\n",
    "import pandas as pd\n",
    "from sklearn.metrics import r2_score"
   ]
  },
  {
   "cell_type": "code",
   "execution_count": 2,
   "metadata": {},
   "outputs": [
    {
     "data": {
      "text/plain": [
       "0"
      ]
     },
     "execution_count": 2,
     "metadata": {},
     "output_type": "execute_result"
    }
   ],
   "source": [
    "import os\n",
    "os.system('mkdir -p images')"
   ]
  },
  {
   "cell_type": "markdown",
   "metadata": {},
   "source": [
    "## Importing the dataset"
   ]
  },
  {
   "cell_type": "code",
   "execution_count": 3,
   "metadata": {},
   "outputs": [],
   "source": [
    "name = 'benzene_old_dft'\n",
    "mol = 'Benzene'\n",
    "path_to_dataset = '../../datasets'"
   ]
  },
  {
   "cell_type": "code",
   "execution_count": 4,
   "metadata": {},
   "outputs": [],
   "source": [
    "data = np.load(\"{}/{}.npz\".format(path_to_dataset, name))"
   ]
  },
  {
   "cell_type": "code",
   "execution_count": 5,
   "metadata": {},
   "outputs": [],
   "source": [
    "configs = data['R']\n",
    "COM = configs.mean(axis = 1, keepdims = True)"
   ]
  },
  {
   "cell_type": "code",
   "execution_count": 8,
   "metadata": {},
   "outputs": [
    {
     "name": "stdout",
     "output_type": "stream",
     "text": [
      "E\n",
      "[[-146536.1068]\n",
      " [-146536.1192]\n",
      " [-146536.099 ]\n",
      " ...\n",
      " [-146528.199 ]\n",
      " [-146528.1944]\n",
      " [-146528.1118]]\n",
      "name\n",
      "b'qmC6H6'\n",
      "F\n",
      "[[[ 4.73847840e-11 -3.82596480e+00 -6.71719680e-13]\n",
      "  [-3.24928800e+00 -1.94189760e+00 -3.43149120e-13]\n",
      "  [-3.24928800e+00  1.94189760e+00  6.67416960e-13]\n",
      "  ...\n",
      "  [-4.16293920e-12 -6.04474560e+00  5.07123360e-13]\n",
      "  [-5.21874720e+00 -3.01262400e+00  7.20295200e-14]\n",
      "  [-5.21874720e+00  3.01262400e+00  1.05965424e-12]]\n",
      "\n",
      " [[ 1.11068640e+00 -3.48842880e+00  5.64674400e-01]\n",
      "  [-2.45894400e+00 -1.13021712e+00  1.18552608e-01]\n",
      "  [-2.27453760e+00  1.22346144e-01 -3.22531200e-01]\n",
      "  ...\n",
      "  [ 1.57695840e-02 -7.33620960e+00  1.13925168e-01]\n",
      "  [-5.80842720e+00 -3.25497600e+00  1.29719232e-01]\n",
      "  [-3.06809280e+00  1.98758880e+00  1.15045920e-01]]\n",
      "\n",
      " [[ 2.24255520e+00 -3.04914240e+00  1.14397344e+00]\n",
      "  [-1.59134400e+00 -2.70688320e-01  2.42511840e-01]\n",
      "  [-1.24654032e+00 -1.75278240e+00 -6.68413440e-01]\n",
      "  ...\n",
      "  [ 3.15537120e-02 -8.54546400e+00  2.21202720e-01]\n",
      "  [-6.32345760e+00 -3.45310560e+00  2.59295040e-01]\n",
      "  [-8.61950880e-01  9.41088960e-01  2.40667200e-01]]\n",
      "\n",
      " ...\n",
      "\n",
      " [[-3.44792160e+00 -1.86880320e+01 -9.20782080e+00]\n",
      "  [-5.05067040e+01  2.08401120e+01  9.79509600e+00]\n",
      "  [ 3.54954240e+01 -3.46842720e+00  6.43880160e+00]\n",
      "  ...\n",
      "  [ 2.08105920e+00  6.84084960e+00  7.48909440e-01]\n",
      "  [ 1.46494080e+01 -2.61911520e+00 -2.29544640e+00]\n",
      "  [-4.39289280e+00 -5.24394720e+00 -1.72955520e+01]]\n",
      "\n",
      " [[-4.52607840e+00 -1.55098080e+01 -7.82573760e+00]\n",
      "  [-5.57874720e+01  1.94611680e+01  1.08228816e+01]\n",
      "  [ 3.24709920e+01 -8.90940960e+00  6.02880480e+00]\n",
      "  ...\n",
      "  [ 4.61715840e-01  8.16374880e+00  1.30611744e+00]\n",
      "  [ 1.76342400e+01 -3.42790560e+00 -3.49673760e+00]\n",
      "  [-4.05061920e+00 -4.83837120e+00 -1.73468160e+01]]\n",
      "\n",
      " [[-5.48925120e+00 -1.24959744e+01 -6.49193760e+00]\n",
      "  [-6.05351520e+01  1.79516160e+01  1.17023328e+01]\n",
      "  [ 2.93633280e+01 -1.41718608e+01  5.63032800e+00]\n",
      "  ...\n",
      "  [-1.13252976e+00  9.40158720e+00  1.82227680e+00]\n",
      "  [ 2.03459040e+01 -4.20678720e+00 -4.60405440e+00]\n",
      "  [-3.62443680e+00 -4.32452160e+00 -1.73305440e+01]]]\n",
      "theory\n",
      "aims: PBE+TS, light tier 1\n",
      "R\n",
      "[[[ 0.00000e+00  1.39700e+00  0.00000e+00]\n",
      "  [ 1.20980e+00  6.98500e-01  0.00000e+00]\n",
      "  [ 1.20980e+00 -6.98500e-01  0.00000e+00]\n",
      "  ...\n",
      "  [ 0.00000e+00 -2.48100e+00  0.00000e+00]\n",
      "  [-2.14860e+00 -1.24050e+00  0.00000e+00]\n",
      "  [-2.14860e+00  1.24050e+00  0.00000e+00]]\n",
      "\n",
      " [[-7.71282e-04  1.39733e+00 -4.37433e-04]\n",
      "  [ 1.20963e+00  6.98481e-01  3.70338e-04]\n",
      "  [ 1.20992e+00 -6.97930e-01 -2.93209e-04]\n",
      "  ...\n",
      "  [-1.54452e-03 -2.47843e+00 -5.57706e-03]\n",
      "  [-2.14758e+00 -1.23980e+00 -3.67667e-03]\n",
      "  [-2.15217e+00  1.23957e+00 -1.47171e-03]]\n",
      "\n",
      " [[-1.55763e-03  1.39765e+00 -8.83500e-04]\n",
      "  [ 1.20946e+00  6.98460e-01  7.48827e-04]\n",
      "  [ 1.21004e+00 -6.97347e-01 -5.93193e-04]\n",
      "  ...\n",
      "  [-3.12206e-03 -2.47592e+00 -1.12724e-02]\n",
      "  [-2.14663e+00 -1.23913e+00 -7.43041e-03]\n",
      "  [-2.15587e+00  1.23866e+00 -2.97322e-03]]\n",
      "\n",
      " ...\n",
      "\n",
      " [[-1.79061e+02  2.00271e+02 -1.65626e+02]\n",
      "  [-1.79827e+02  1.99110e+02 -1.65802e+02]\n",
      "  [-1.79328e+02  1.97924e+02 -1.66307e+02]\n",
      "  ...\n",
      "  [-1.77594e+02  1.96894e+02 -1.67107e+02]\n",
      "  [-1.76210e+02  1.99052e+02 -1.67023e+02]\n",
      "  [-1.77047e+02  2.00943e+02 -1.65684e+02]]\n",
      "\n",
      " [[-1.79060e+02  2.00270e+02 -1.65626e+02]\n",
      "  [-1.79825e+02  1.99111e+02 -1.65803e+02]\n",
      "  [-1.79328e+02  1.97925e+02 -1.66308e+02]\n",
      "  ...\n",
      "  [-1.77585e+02  1.96894e+02 -1.67105e+02]\n",
      "  [-1.76216e+02  1.99059e+02 -1.67021e+02]\n",
      "  [-1.77047e+02  2.00943e+02 -1.65682e+02]]\n",
      "\n",
      " [[-1.79059e+02  2.00269e+02 -1.65626e+02]\n",
      "  [-1.79824e+02  1.99112e+02 -1.65804e+02]\n",
      "  [-1.79327e+02  1.97926e+02 -1.66309e+02]\n",
      "  ...\n",
      "  [-1.77576e+02  1.96893e+02 -1.67103e+02]\n",
      "  [-1.76222e+02  1.99066e+02 -1.67019e+02]\n",
      "  [-1.77047e+02  2.00942e+02 -1.65681e+02]]]\n",
      "z\n",
      "[6 6 6 6 6 6 1 1 1 1 1 1]\n",
      "type\n",
      "b'd'\n",
      "md5\n",
      "b'388fb251b16b86d5f038da5f90ca7858'\n"
     ]
    }
   ],
   "source": [
    "configs.shape, data.files, data['z']\n",
    "for i in data.files:\n",
    "    print(i)\n",
    "    print(data[i])\n"
   ]
  },
  {
   "cell_type": "code",
   "execution_count": 7,
   "metadata": {},
   "outputs": [
    {
     "name": "stdout",
     "output_type": "stream",
     "text": [
      "[[ 0.      1.397   0.    ]\n",
      " [ 1.2098  0.6985  0.    ]\n",
      " [ 1.2098 -0.6985  0.    ]\n",
      " [ 0.     -1.397   0.    ]\n",
      " [-1.2098 -0.6985  0.    ]\n",
      " [-1.2098  0.6985  0.    ]\n",
      " [ 0.      2.481   0.    ]\n",
      " [ 2.1486  1.2405  0.    ]\n",
      " [ 2.1486 -1.2405  0.    ]\n",
      " [ 0.     -2.481   0.    ]\n",
      " [-2.1486 -1.2405  0.    ]\n",
      " [-2.1486  1.2405  0.    ]]\n"
     ]
    }
   ],
   "source": [
    "print(configs[0])"
   ]
  },
  {
   "cell_type": "code",
   "execution_count": null,
   "metadata": {},
   "outputs": [],
   "source": [
    "fig = plt.figure(figsize = (15, 15))\n",
    "\n",
    "\n",
    "for num in range(1):\n",
    "    ax = fig.add_subplot(1, 1, num + 1, projection = '3d')\n",
    "    i = configs[num]\n",
    "    ax.scatter(i[:, 0], i[:, 1], i[:, 2], s = 500, c = 'red')\n",
    "    ax.set_title(\"Energy : {}\".format(data['E'][num][0]), fontsize = 50)\n",
    "plt.savefig(\"images/{}_configurations_paper.png\".format(mol))"
   ]
  },
  {
   "cell_type": "code",
   "execution_count": null,
   "metadata": {},
   "outputs": [],
   "source": [
    "total_size = int(3e5)\n",
    "data_points = configs[:total_size]\n",
    "data_labels = data['E'][:total_size]"
   ]
  },
  {
   "cell_type": "markdown",
   "metadata": {},
   "source": [
    "## Architecturing the model"
   ]
  },
  {
   "cell_type": "code",
   "execution_count": null,
   "metadata": {},
   "outputs": [],
   "source": [
    "optimizer = tf.optimizers.Adam(0.001)\n",
    "model = keras.Sequential([layers.Flatten(input_shape = (12, 3)), layers.Dense(20, activation = tf.nn.relu), \n",
    "                            layers.Dense(10, activation = tf.nn.relu),\n",
    "                            layers.Dense(1)])\n",
    "model.build()"
   ]
  },
  {
   "cell_type": "code",
   "execution_count": null,
   "metadata": {},
   "outputs": [],
   "source": [
    "assert model(data_points[:10]).shape == data_labels[:10].shape, \"Check model architecture\""
   ]
  },
  {
   "cell_type": "code",
   "execution_count": null,
   "metadata": {},
   "outputs": [],
   "source": [
    "# model.compile(\n",
    "#     optimizer=tf.optimizers.Adam(learning_rate=0.001),\n",
    "#     loss='mean_absolute_error')"
   ]
  },
  {
   "cell_type": "code",
   "execution_count": null,
   "metadata": {},
   "outputs": [],
   "source": [
    "train_data, test_data, train_labels, test_labels = train_test_split(data_points, data_labels, test_size = 0.2)"
   ]
  },
  {
   "cell_type": "code",
   "execution_count": null,
   "metadata": {},
   "outputs": [],
   "source": [
    "def mean_squared_error(true, pred):\n",
    "    return tf.reduce_mean(tf.math.square(true - pred))"
   ]
  },
  {
   "cell_type": "code",
   "execution_count": null,
   "metadata": {},
   "outputs": [],
   "source": [
    "os.system(\"mkdir -p logs\")\n",
    "f = open(\"logs/training.log\", \"w\")"
   ]
  },
  {
   "cell_type": "code",
   "execution_count": null,
   "metadata": {},
   "outputs": [],
   "source": [
    "epochs = 5000\n",
    "small_batch_size = 1000"
   ]
  },
  {
   "cell_type": "code",
   "execution_count": null,
   "metadata": {},
   "outputs": [],
   "source": [
    "f.write(\"Step\\tError\\tR2\\n\")\n",
    "f.flush()\n",
    "print(\"Step\\tError\\tR2\\n\")\n",
    "training_data_size = train_data.shape[0]\n",
    "for step in range(epochs):\n",
    "    for j in range(0, training_data_size, small_batch_size):\n",
    "        td = train_data[j:j + small_batch_size]\n",
    "        tl = train_labels[j:j + small_batch_size]\n",
    "        with tf.GradientTape() as g:\n",
    "            batchx = model(td)\n",
    "            error = mean_squared_error(tl, batchx)\n",
    "        trainable_variables = model.trainable_variables\n",
    "        gradients = g.gradient(error, trainable_variables)\n",
    "        optimizer.apply_gradients(zip(gradients, trainable_variables))\n",
    "#         if j % 6000 == 0:\n",
    "#             val = False\n",
    "#             for h in model.trainable_variables:\n",
    "#                 val = val or tf.math.is_nan(h).numpy().any()\n",
    "#             print(\"{}\\t{}\\n\".format(j, val))\n",
    "#         print(\"\\n\")\n",
    "    if step % 10 == 0:\n",
    "        td = train_data\n",
    "        tl = train_labels\n",
    "        pred = model(td)\n",
    "        error = mean_squared_error(tl, pred)\n",
    "#         print(tl, pred)\n",
    "        R2 = r2_score(tl, pred)\n",
    "        f.write(\"{}\\t{}\\t{}\\n\".format(step, error, R2))\n",
    "        f.flush()\n",
    "        print(\"{}\\t{}\\t{}\\n\".format(step, error, R2))"
   ]
  },
  {
   "cell_type": "markdown",
   "metadata": {},
   "source": [
    "### Saving preprocessed test data"
   ]
  },
  {
   "cell_type": "code",
   "execution_count": null,
   "metadata": {},
   "outputs": [],
   "source": [
    "np.save('test_data.npy', test_data)\n",
    "np.save('test_labels.npy', test_labels)"
   ]
  },
  {
   "cell_type": "markdown",
   "metadata": {},
   "source": [
    "## Saving the model for testing later"
   ]
  },
  {
   "cell_type": "code",
   "execution_count": null,
   "metadata": {},
   "outputs": [],
   "source": [
    "model.save('./EP')"
   ]
  },
  {
   "cell_type": "code",
   "execution_count": null,
   "metadata": {},
   "outputs": [],
   "source": [
    "f.close()"
   ]
  }
 ],
 "metadata": {
  "kernelspec": {
   "display_name": "ML",
   "language": "python",
   "name": "ml"
  },
  "language_info": {
   "codemirror_mode": {
    "name": "ipython",
    "version": 3
   },
   "file_extension": ".py",
   "mimetype": "text/x-python",
   "name": "python",
   "nbconvert_exporter": "python",
   "pygments_lexer": "ipython3",
   "version": "3.6.12"
  }
 },
 "nbformat": 4,
 "nbformat_minor": 2
}
